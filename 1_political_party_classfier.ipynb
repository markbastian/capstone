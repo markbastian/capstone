{
 "cells": [
  {
   "cell_type": "code",
   "execution_count": 16,
   "metadata": {},
   "outputs": [
    {
     "name": "stdout",
     "output_type": "stream",
     "text": [
      "The autoreload extension is already loaded. To reload it, use:\n",
      "  %reload_ext autoreload\n"
     ]
    }
   ],
   "source": [
    "%load_ext autoreload\n",
    "%autoreload 2\n",
    "\n",
    "import numpy as np\n",
    "import matplotlib.pyplot as plt\n",
    "from sklearn.naive_bayes import MultinomialNB\n",
    "from sklearn.feature_extraction.text import CountVectorizer, TfidfTransformer\n",
    "from sklearn.model_selection import train_test_split\n",
    "from sklearn.pipeline import Pipeline\n",
    "from sklearn.metrics import confusion_matrix, precision_score, recall_score, accuracy_score, f1_score\n",
    "import pandas as pd\n",
    "import seaborn as sn\n",
    "import plot_confusion_matrix\n",
    "\n",
    "%matplotlib inline"
   ]
  },
  {
   "cell_type": "code",
   "execution_count": 3,
   "metadata": {},
   "outputs": [],
   "source": [
    "# Dataset\n",
    "categories = ['Democrat', 'Republican']\n",
    "tweetsdf = pd.read_csv('democratvsrepublicantweets/ExtractedTweets.csv')\n",
    "handlesdf = pd.read_csv('democratvsrepublicantweets/TwitterHandles.csv')\n",
    "raw_tweets = tweetsdf['Tweet']\n",
    "parties = tweetsdf['Party']\n",
    "y = 1.0 - np.asarray(parties == 'Democrat')\n",
    "X_train, X_test, y_train, y_test = train_test_split(raw_tweets, y, test_size=0.2, random_state=42)"
   ]
  },
  {
   "cell_type": "code",
   "execution_count": 4,
   "metadata": {},
   "outputs": [
    {
     "data": {
      "image/png": "[encoded data removed]",
      "text/plain": [
       "<Figure size 432x432 with 1 Axes>"
      ]
     },
     "metadata": {
      "needs_background": "light"
     },
     "output_type": "display_data"
    }
   ],
   "source": [
    "tweetsdf['Tweet'].str.startswith('RT').value_counts().rename({True: 'Retweet', False: 'Original'}).plot.bar(figsize=(6, 6))\n",
    "plt.show()"
   ]
  },
  {
   "cell_type": "code",
   "execution_count": 5,
   "metadata": {},
   "outputs": [
    {
     "data": {
      "text/html": [
       "<div>\n",
       "<style scoped>\n",
       "    .dataframe tbody tr th:only-of-type {\n",
       "        vertical-align: middle;\n",
       "    }\n",
       "\n",
       "    .dataframe tbody tr th {\n",
       "        vertical-align: top;\n",
       "    }\n",
       "\n",
       "    .dataframe thead th {\n",
       "        text-align: right;\n",
       "    }\n",
       "</style>\n",
       "<table border=\"1\" class=\"dataframe\">\n",
       "  <thead>\n",
       "    <tr style=\"text-align: right;\">\n",
       "      <th></th>\n",
       "      <th>Party</th>\n",
       "      <th>Name</th>\n",
       "      <th>Handle</th>\n",
       "      <th>AvatarURL</th>\n",
       "    </tr>\n",
       "  </thead>\n",
       "  <tbody>\n",
       "    <tr>\n",
       "      <th>0</th>\n",
       "      <td>Democrat</td>\n",
       "      <td>US Rep. Darren Soto</td>\n",
       "      <td>RepDarrenSoto</td>\n",
       "      <td>https://pbs.twimg.com/profile_images/824454906...</td>\n",
       "    </tr>\n",
       "    <tr>\n",
       "      <th>1</th>\n",
       "      <td>Democrat</td>\n",
       "      <td>Rep. Jacky Rosen</td>\n",
       "      <td>RepJackyRosen</td>\n",
       "      <td>https://pbs.twimg.com/profile_images/837772241...</td>\n",
       "    </tr>\n",
       "    <tr>\n",
       "      <th>2</th>\n",
       "      <td>Democrat</td>\n",
       "      <td>US Rep. Al Lawson Jr</td>\n",
       "      <td>RepAlLawsonJr</td>\n",
       "      <td>https://pbs.twimg.com/profile_images/818493713...</td>\n",
       "    </tr>\n",
       "    <tr>\n",
       "      <th>3</th>\n",
       "      <td>Democrat</td>\n",
       "      <td>Adriano Espaillat</td>\n",
       "      <td>RepEspaillat</td>\n",
       "      <td>https://pbs.twimg.com/profile_images/827580972...</td>\n",
       "    </tr>\n",
       "    <tr>\n",
       "      <th>4</th>\n",
       "      <td>Democrat</td>\n",
       "      <td>US Rep. Darren Soto</td>\n",
       "      <td>RepDarrenSoto</td>\n",
       "      <td>https://pbs.twimg.com/profile_images/824454906...</td>\n",
       "    </tr>\n",
       "  </tbody>\n",
       "</table>\n",
       "</div>"
      ],
      "text/plain": [
       "      Party                  Name         Handle  \\\n",
       "0  Democrat   US Rep. Darren Soto  RepDarrenSoto   \n",
       "1  Democrat      Rep. Jacky Rosen  RepJackyRosen   \n",
       "2  Democrat  US Rep. Al Lawson Jr  RepAlLawsonJr   \n",
       "3  Democrat     Adriano Espaillat   RepEspaillat   \n",
       "4  Democrat   US Rep. Darren Soto  RepDarrenSoto   \n",
       "\n",
       "                                           AvatarURL  \n",
       "0  https://pbs.twimg.com/profile_images/824454906...  \n",
       "1  https://pbs.twimg.com/profile_images/837772241...  \n",
       "2  https://pbs.twimg.com/profile_images/818493713...  \n",
       "3  https://pbs.twimg.com/profile_images/827580972...  \n",
       "4  https://pbs.twimg.com/profile_images/824454906...  "
      ]
     },
     "execution_count": 5,
     "metadata": {},
     "output_type": "execute_result"
    }
   ],
   "source": [
    "handlesdf.head()"
   ]
  },
  {
   "cell_type": "code",
   "execution_count": 74,
   "metadata": {},
   "outputs": [
    {
     "data": {
      "text/plain": [
       "Republican    44392\n",
       "Democrat      42068\n",
       "Name: Party, dtype: int64"
      ]
     },
     "execution_count": 74,
     "metadata": {},
     "output_type": "execute_result"
    }
   ],
   "source": [
    "parties.value_counts()"
   ]
  },
  {
   "cell_type": "code",
   "execution_count": 6,
   "metadata": {},
   "outputs": [
    {
     "data": {
      "image/png": "[encoded data removed]",
      "text/plain": [
       "<Figure size 432x432 with 1 Axes>"
      ]
     },
     "metadata": {
      "needs_background": "light"
     },
     "output_type": "display_data"
    }
   ],
   "source": [
    "parties.value_counts().plot.bar(figsize=(6, 6))\n",
    "plt.show()"
   ]
  },
  {
   "cell_type": "code",
   "execution_count": 7,
   "metadata": {},
   "outputs": [],
   "source": [
    "model = Pipeline([('vect', CountVectorizer()), ('tfidf', TfidfTransformer()), ('clf', MultinomialNB())])"
   ]
  },
  {
   "cell_type": "code",
   "execution_count": 8,
   "metadata": {},
   "outputs": [
    {
     "data": {
      "text/plain": [
       "Pipeline(memory=None,\n",
       "     steps=[('vect', CountVectorizer(analyzer='word', binary=False, decode_error='strict',\n",
       "        dtype=<class 'numpy.int64'>, encoding='utf-8', input='content',\n",
       "        lowercase=True, max_df=1.0, max_features=None, min_df=1,\n",
       "        ngram_range=(1, 1), preprocessor=None, stop_words=None,\n",
       "        strip...inear_tf=False, use_idf=True)), ('clf', MultinomialNB(alpha=1.0, class_prior=None, fit_prior=True))])"
      ]
     },
     "execution_count": 8,
     "metadata": {},
     "output_type": "execute_result"
    }
   ],
   "source": [
    "model.fit(X_train, y_train)"
   ]
  },
  {
   "cell_type": "code",
   "execution_count": 9,
   "metadata": {},
   "outputs": [
    {
     "name": "stdout",
     "output_type": "stream",
     "text": [
      "'God bless the USA' => Republican\n",
      "'Medicare for all' => Democrat\n",
      "'Cut taxes' => Republican\n",
      "'We need an energy independent America' => Democrat\n"
     ]
    }
   ],
   "source": [
    "# Results for made up data\n",
    "docs_new = ['God bless the USA', 'Medicare for all', 'Cut taxes', 'We need an energy independent America']\n",
    "predicted = model.predict(docs_new)\n",
    "for doc, category in zip(docs_new, predicted):\n",
    "    print('%r => %s' % (doc, categories[int(category)]))"
   ]
  },
  {
   "cell_type": "code",
   "execution_count": 10,
   "metadata": {},
   "outputs": [],
   "source": [
    "pred = model.predict(X_test)"
   ]
  },
  {
   "cell_type": "code",
   "execution_count": 11,
   "metadata": {},
   "outputs": [
    {
     "data": {
      "image/png": "[encoded data removed]",
      "text/plain": [
       "<Figure size 432x288 with 1 Axes>"
      ]
     },
     "metadata": {
      "needs_background": "light"
     },
     "output_type": "display_data"
    },
    {
     "data": {
      "text/plain": [
       "[0.7986352070321536,\n",
       " 0.7716099959033184,\n",
       " 0.8575005690871842,\n",
       " 0.8122911051212938]"
      ]
     },
     "execution_count": 11,
     "metadata": {},
     "output_type": "execute_result"
    }
   ],
   "source": [
    "objects = ('Accuracy', 'Precision', 'Recall', 'F1')\n",
    "y_pos = np.arange(len(objects))\n",
    "performance = [accuracy_score(y_test, pred), \n",
    "               precision_score(y_test, pred), \n",
    "               recall_score(y_test, pred), \n",
    "               f1_score(y_test, pred)]\n",
    "\n",
    "plt.bar(y_pos, performance, align='center', alpha=0.5)\n",
    "plt.xticks(y_pos, objects)\n",
    "plt.ylabel('Score')\n",
    "plt.title('Baseline Performance Metrics')\n",
    "\n",
    "plt.show()\n",
    "performance"
   ]
  },
  {
   "cell_type": "code",
   "execution_count": 73,
   "metadata": {},
   "outputs": [
    {
     "data": {
      "image/png": "[encoded data removed]",
      "text/plain": [
       "<Figure size 504x504 with 2 Axes>"
      ]
     },
     "metadata": {
      "needs_background": "light"
     },
     "output_type": "display_data"
    },
    {
     "data": {
      "image/png": "[encoded data removed]",
      "text/plain": [
       "<Figure size 504x504 with 2 Axes>"
      ]
     },
     "metadata": {
      "needs_background": "light"
     },
     "output_type": "display_data"
    }
   ],
   "source": [
    "plt.rcParams[\"figure.figsize\"] = (7,7)\n",
    "classes=np.array(['D (0)', 'R (1)'])\n",
    "plot_confusion_matrix.plot_confusion_matrix(y_test.astype(int), pred.astype(int), \n",
    "                                            classes=classes,\n",
    "                                            title='Confusion matrix')\n",
    "plt.show()\n",
    "plot_confusion_matrix.plot_confusion_matrix(y_test.astype(int), pred.astype(int), \n",
    "                                            classes=classes, \n",
    "                                            normalize=True,\n",
    "                                            title='Normalized confusion matrix')\n",
    "plt.show()"
   ]
  },
  {
   "cell_type": "code",
   "execution_count": null,
   "metadata": {},
   "outputs": [],
   "source": []
  }
 ],
 "metadata": {
  "kernelspec": {
   "display_name": "Python 3",
   "language": "python",
   "name": "python3"
  },
  "language_info": {
   "codemirror_mode": {
    "name": "ipython",
    "version": 3
   },
   "file_extension": ".py",
   "mimetype": "text/x-python",
   "name": "python",
   "nbconvert_exporter": "python",
   "pygments_lexer": "ipython3",
   "version": "3.7.3"
  },
  "pycharm": {
   "stem_cell": {
    "cell_type": "raw",
    "metadata": {
     "collapsed": false
    },
    "source": []
   }
  }
 },
 "nbformat": 4,
 "nbformat_minor": 2
}
