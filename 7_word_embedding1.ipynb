{
 "cells": [
  {
   "cell_type": "code",
   "execution_count": null,
   "metadata": {},
   "outputs": [],
   "source": [
    "%load_ext autoreload\n",
    "%autoreload 2\n",
    "%matplotlib inline\n",
    "import models\n",
    "\n",
    "import pandas as pd\n",
    "import numpy as np\n",
    "import os\n",
    "from nltk import word_tokenize\n",
    "from sklearn.feature_extraction.text import CountVectorizer\n",
    "from sklearn.model_selection import train_test_split\n",
    "from sklearn.metrics import confusion_matrix, precision_score, accuracy_score, recall_score, f1_score\n",
    "from nltk.corpus import stopwords\n",
    "import re\n",
    "from keras.callbacks import ModelCheckpoint, TensorBoard\n",
    "from keras.optimizers import Adam\n",
    "from keras.layers import Input, Dense, Embedding, Flatten, Dropout\n",
    "from keras.layers.convolutional import Conv1D\n",
    "from keras.layers.pooling import MaxPooling1D\n",
    "from keras.models import Model\n",
    "from keras.utils import np_utils\n",
    "from time import time"
   ]
  },
  {
   "cell_type": "code",
   "execution_count": 2,
   "metadata": {},
   "outputs": [],
   "source": [
    "english_stopwords = set(stopwords.words('english'))\n",
    "categories = ['Democrat', 'Republican']\n",
    "tweetsdf = pd.read_csv('democratvsrepublicantweets/ExtractedTweets.csv')\n",
    "handlesdf = pd.read_csv('democratvsrepublicantweets/TwitterHandles.csv')\n",
    "raw_tweets = tweetsdf['Tweet']\n",
    "parties = tweetsdf['Party']\n",
    "y = 1.0 - np.asarray(parties == 'Democrat')\n",
    "\n",
    "cv = CountVectorizer(stop_words='english', strip_accents='ascii')\n",
    "bag_of_words = cv.fit_transform([re.sub(r'https?://[^\\s]+', '', tweet) for tweet in raw_tweets])\n",
    "\n",
    "vocab = {}\n",
    "for feature, freq in zip(cv.get_feature_names(), bag_of_words.sum(axis=0).tolist()[0]):\n",
    "    if freq > 10:\n",
    "        vocab[feature] = freq\n",
    "\n",
    "vocabulary = list(vocab.keys())\n",
    "vocabulary_size = len(vocabulary) + 1\n",
    "\n",
    "word_to_int = {word: i + 1 for i, word in enumerate(vocabulary)}\n",
    "int_to_word = {i + 1: word for i, word in enumerate(vocabulary)}\n",
    "\n",
    "encoded_tweets =\\\n",
    "    [[word_to_int.get(word, 0) for word in word_tokenize(re.sub(r'https?://[^\\s]+', '', tweet).lower())\n",
    "      if word in word_to_int]\n",
    "     for tweet in raw_tweets]\n",
    "\n",
    "max_tweet_len = max([len(encoded_tweet) for encoded_tweet in encoded_tweets])\n",
    "\n",
    "X = []\n",
    "for encoded_tweet in encoded_tweets:\n",
    "    v = np.zeros(max_tweet_len)\n",
    "    v[0:len(encoded_tweet)] = encoded_tweet\n",
    "    X.append(v)\n",
    "    \n",
    "X = np.array(X)\n",
    "\n",
    "X_train, X_test, y_train, y_test = train_test_split(X, y, test_size=0.2, random_state=42)"
   ]
  },
  {
   "cell_type": "code",
   "execution_count": 3,
   "metadata": {},
   "outputs": [
    {
     "name": "stdout",
     "output_type": "stream",
     "text": [
      "Max tweet length: 19\n"
     ]
    }
   ],
   "source": [
    "print('Max tweet length: %s' % max_tweet_len)"
   ]
  },
  {
   "cell_type": "code",
   "execution_count": 4,
   "metadata": {
    "scrolled": true
   },
   "outputs": [
    {
     "name": "stdout",
     "output_type": "stream",
     "text": [
      "WARNING:tensorflow:From /Users/mbastian/.local/share/virtualenvs/capstone-STdjP8zH/lib/python3.7/site-packages/tensorflow/python/framework/op_def_library.py:263: colocate_with (from tensorflow.python.framework.ops) is deprecated and will be removed in a future version.\n",
      "Instructions for updating:\n",
      "Colocations handled automatically by placer.\n",
      "WARNING:tensorflow:From /Users/mbastian/.local/share/virtualenvs/capstone-STdjP8zH/lib/python3.7/site-packages/keras/backend/tensorflow_backend.py:3445: calling dropout (from tensorflow.python.ops.nn_ops) with keep_prob is deprecated and will be removed in a future version.\n",
      "Instructions for updating:\n",
      "Please use `rate` instead of `keep_prob`. Rate should be set to `rate = 1 - keep_prob`.\n",
      "_________________________________________________________________\n",
      "Layer (type)                 Output Shape              Param #   \n",
      "=================================================================\n",
      "input_1 (InputLayer)         (None, 19)                0         \n",
      "_________________________________________________________________\n",
      "embedding_1 (Embedding)      (None, 19, 100)           842500    \n",
      "_________________________________________________________________\n",
      "conv1d_1 (Conv1D)            (None, 16, 128)           51328     \n",
      "_________________________________________________________________\n",
      "dropout_1 (Dropout)          (None, 16, 128)           0         \n",
      "_________________________________________________________________\n",
      "max_pooling1d_1 (MaxPooling1 (None, 8, 128)            0         \n",
      "_________________________________________________________________\n",
      "conv1d_2 (Conv1D)            (None, 5, 64)             32832     \n",
      "_________________________________________________________________\n",
      "dropout_2 (Dropout)          (None, 5, 64)             0         \n",
      "_________________________________________________________________\n",
      "max_pooling1d_2 (MaxPooling1 (None, 2, 64)             0         \n",
      "_________________________________________________________________\n",
      "flatten_1 (Flatten)          (None, 128)               0         \n",
      "_________________________________________________________________\n",
      "dense_1 (Dense)              (None, 2)                 258       \n",
      "=================================================================\n",
      "Total params: 926,918\n",
      "Trainable params: 926,918\n",
      "Non-trainable params: 0\n",
      "_________________________________________________________________\n"
     ]
    }
   ],
   "source": [
    "filepath, model = models.model7(vocabulary_size, max_tweet_len)\n",
    "if filepath in os.listdir():\n",
    "    model.load_weights(filepath)\n",
    "model.summary()"
   ]
  },
  {
   "cell_type": "code",
   "execution_count": 5,
   "metadata": {},
   "outputs": [],
   "source": [
    "# models.train(X_train, y_train, model, 'tmp_' + filepath)"
   ]
  },
  {
   "cell_type": "code",
   "execution_count": 6,
   "metadata": {},
   "outputs": [],
   "source": [
    "predictions = np.argmax(model.predict(X_test), axis=1)"
   ]
  },
  {
   "cell_type": "code",
   "execution_count": 8,
   "metadata": {},
   "outputs": [
    {
     "data": {
      "image/png": "[encoded data removed]",
      "text/plain": [
       "<Figure size 504x504 with 1 Axes>"
      ]
     },
     "metadata": {
      "needs_background": "light"
     },
     "output_type": "display_data"
    },
    {
     "data": {
      "image/png": "[encoded data removed]",
      "text/plain": [
       "<Figure size 504x504 with 2 Axes>"
      ]
     },
     "metadata": {
      "needs_background": "light"
     },
     "output_type": "display_data"
    },
    {
     "data": {
      "image/png": "[encoded data removed]",
      "text/plain": [
       "<Figure size 504x504 with 2 Axes>"
      ]
     },
     "metadata": {
      "needs_background": "light"
     },
     "output_type": "display_data"
    },
    {
     "name": "stdout",
     "output_type": "stream",
     "text": [
      "Accuracy: 0.7555517002081887\n",
      "Precision: 0.7519062879876229\n",
      "Recall: 0.7744138402003187\n",
      "F1: 0.7629941126997477\n"
     ]
    }
   ],
   "source": [
    "metrics, confusion_matrix = models.plot_results(y_test, predictions)\n",
    "(accuracy, precision, recall, f1) = metrics\n",
    "print('Accuracy: %s' % accuracy)\n",
    "print('Precision: %s' % precision)\n",
    "print('Recall: %s' % recall)\n",
    "print('F1: %s' % f1)"
   ]
  },
  {
   "cell_type": "code",
   "execution_count": 9,
   "metadata": {},
   "outputs": [
    {
     "data": {
      "text/plain": [
       "[0.7555517002081887,\n",
       " 0.7519062879876229,\n",
       " 0.7744138402003187,\n",
       " 0.7629941126997477]"
      ]
     },
     "execution_count": 9,
     "metadata": {},
     "output_type": "execute_result"
    }
   ],
   "source": [
    "metrics"
   ]
  },
  {
   "cell_type": "code",
   "execution_count": null,
   "metadata": {},
   "outputs": [],
   "source": []
  }
 ],
 "metadata": {
  "kernelspec": {
   "display_name": "Python 3",
   "language": "python",
   "name": "python3"
  },
  "language_info": {
   "codemirror_mode": {
    "name": "ipython",
    "version": 3
   },
   "file_extension": ".py",
   "mimetype": "text/x-python",
   "name": "python",
   "nbconvert_exporter": "python",
   "pygments_lexer": "ipython3",
   "version": "3.7.3"
  }
 },
 "nbformat": 4,
 "nbformat_minor": 2
}
