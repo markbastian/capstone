{
 "cells": [
  {
   "cell_type": "code",
   "execution_count": 1,
   "metadata": {},
   "outputs": [],
   "source": [
    "import pandas as pd\n",
    "import numpy as np"
   ]
  },
  {
   "cell_type": "code",
   "execution_count": 12,
   "metadata": {},
   "outputs": [],
   "source": [
    "columns = ['Architecture','Accuracy', 'Precision', 'Recall', 'F1']\n",
    "\n",
    "results = \\\n",
    "[[1, 0.7986352070321536, 0.7716099959033184, 0.8575005690871842, 0.8122911051212938],\n",
    " [2, 0.5570205875549387, 0.5472473984558577, 0.7422035055770544, 0.6299874408269732],\n",
    " [3, 0.6857506361323156, 0.710711591651999, 0.6434099704074664, 0.6753882915173238],\n",
    " [4, 0.732882257691418, 0.7154824697486813, 0.7873890279990895, 0.7497155242481712],\n",
    " [5, 0.5310548230395559, 0.581155598177895, 0.27589346687912586, 0.3741606853438296],\n",
    " [6, 0.6038630580615314, 0.6051945229297979, 0.6338493057136353, 0.6191905714921059],\n",
    " [7, 0.7555517002081887, 0.7519062879876229, 0.7744138402003187, 0.7629941126997477],\n",
    " [8, 0.758443210733287, 0.7583809844152932, 0.7698611427270657, 0.7640779440835921],\n",
    " [9, 0.5080962294702752, 0.5080962294702752, 1.0, 0.6738246798067336]]"
   ]
  },
  {
   "cell_type": "code",
   "execution_count": 17,
   "metadata": {},
   "outputs": [],
   "source": [
    "df = pd.DataFrame(results, columns=columns).sort_values(by=['Accuracy'], ascending=False)"
   ]
  },
  {
   "cell_type": "code",
   "execution_count": 18,
   "metadata": {},
   "outputs": [
    {
     "data": {
      "text/html": [
       "<div>\n",
       "<style scoped>\n",
       "    .dataframe tbody tr th:only-of-type {\n",
       "        vertical-align: middle;\n",
       "    }\n",
       "\n",
       "    .dataframe tbody tr th {\n",
       "        vertical-align: top;\n",
       "    }\n",
       "\n",
       "    .dataframe thead th {\n",
       "        text-align: right;\n",
       "    }\n",
       "</style>\n",
       "<table border=\"1\" class=\"dataframe\">\n",
       "  <thead>\n",
       "    <tr style=\"text-align: right;\">\n",
       "      <th></th>\n",
       "      <th>Architecture</th>\n",
       "      <th>Accuracy</th>\n",
       "      <th>Precision</th>\n",
       "      <th>Recall</th>\n",
       "      <th>F1</th>\n",
       "    </tr>\n",
       "  </thead>\n",
       "  <tbody>\n",
       "    <tr>\n",
       "      <th>0</th>\n",
       "      <td>1</td>\n",
       "      <td>0.798635</td>\n",
       "      <td>0.771610</td>\n",
       "      <td>0.857501</td>\n",
       "      <td>0.812291</td>\n",
       "    </tr>\n",
       "    <tr>\n",
       "      <th>7</th>\n",
       "      <td>8</td>\n",
       "      <td>0.758443</td>\n",
       "      <td>0.758381</td>\n",
       "      <td>0.769861</td>\n",
       "      <td>0.764078</td>\n",
       "    </tr>\n",
       "    <tr>\n",
       "      <th>6</th>\n",
       "      <td>7</td>\n",
       "      <td>0.755552</td>\n",
       "      <td>0.751906</td>\n",
       "      <td>0.774414</td>\n",
       "      <td>0.762994</td>\n",
       "    </tr>\n",
       "    <tr>\n",
       "      <th>3</th>\n",
       "      <td>4</td>\n",
       "      <td>0.732882</td>\n",
       "      <td>0.715482</td>\n",
       "      <td>0.787389</td>\n",
       "      <td>0.749716</td>\n",
       "    </tr>\n",
       "    <tr>\n",
       "      <th>2</th>\n",
       "      <td>3</td>\n",
       "      <td>0.685751</td>\n",
       "      <td>0.710712</td>\n",
       "      <td>0.643410</td>\n",
       "      <td>0.675388</td>\n",
       "    </tr>\n",
       "    <tr>\n",
       "      <th>5</th>\n",
       "      <td>6</td>\n",
       "      <td>0.603863</td>\n",
       "      <td>0.605195</td>\n",
       "      <td>0.633849</td>\n",
       "      <td>0.619191</td>\n",
       "    </tr>\n",
       "    <tr>\n",
       "      <th>1</th>\n",
       "      <td>2</td>\n",
       "      <td>0.557021</td>\n",
       "      <td>0.547247</td>\n",
       "      <td>0.742204</td>\n",
       "      <td>0.629987</td>\n",
       "    </tr>\n",
       "    <tr>\n",
       "      <th>4</th>\n",
       "      <td>5</td>\n",
       "      <td>0.531055</td>\n",
       "      <td>0.581156</td>\n",
       "      <td>0.275893</td>\n",
       "      <td>0.374161</td>\n",
       "    </tr>\n",
       "    <tr>\n",
       "      <th>8</th>\n",
       "      <td>9</td>\n",
       "      <td>0.508096</td>\n",
       "      <td>0.508096</td>\n",
       "      <td>1.000000</td>\n",
       "      <td>0.673825</td>\n",
       "    </tr>\n",
       "  </tbody>\n",
       "</table>\n",
       "</div>"
      ],
      "text/plain": [
       "   Architecture  Accuracy  Precision    Recall        F1\n",
       "0             1  0.798635   0.771610  0.857501  0.812291\n",
       "7             8  0.758443   0.758381  0.769861  0.764078\n",
       "6             7  0.755552   0.751906  0.774414  0.762994\n",
       "3             4  0.732882   0.715482  0.787389  0.749716\n",
       "2             3  0.685751   0.710712  0.643410  0.675388\n",
       "5             6  0.603863   0.605195  0.633849  0.619191\n",
       "1             2  0.557021   0.547247  0.742204  0.629987\n",
       "4             5  0.531055   0.581156  0.275893  0.374161\n",
       "8             9  0.508096   0.508096  1.000000  0.673825"
      ]
     },
     "execution_count": 18,
     "metadata": {},
     "output_type": "execute_result"
    }
   ],
   "source": [
    "df"
   ]
  },
  {
   "cell_type": "code",
   "execution_count": 19,
   "metadata": {},
   "outputs": [
    {
     "data": {
      "text/plain": [
       "0    1\n",
       "7    8\n",
       "6    7\n",
       "3    4\n",
       "2    3\n",
       "5    6\n",
       "1    2\n",
       "4    5\n",
       "8    9\n",
       "Name: Architecture, dtype: int64"
      ]
     },
     "execution_count": 19,
     "metadata": {},
     "output_type": "execute_result"
    }
   ],
   "source": [
    "df.Architecture"
   ]
  },
  {
   "cell_type": "code",
   "execution_count": null,
   "metadata": {},
   "outputs": [],
   "source": []
  }
 ],
 "metadata": {
  "kernelspec": {
   "display_name": "Python 3",
   "language": "python",
   "name": "python3"
  },
  "language_info": {
   "codemirror_mode": {
    "name": "ipython",
    "version": 3
   },
   "file_extension": ".py",
   "mimetype": "text/x-python",
   "name": "python",
   "nbconvert_exporter": "python",
   "pygments_lexer": "ipython3",
   "version": "3.7.3"
  }
 },
 "nbformat": 4,
 "nbformat_minor": 2
}
