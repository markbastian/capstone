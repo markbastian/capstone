{
 "cells": [
  {
   "cell_type": "code",
   "execution_count": 3,
   "metadata": {},
   "outputs": [
    {
     "name": "stderr",
     "output_type": "stream",
     "text": [
      "Using TensorFlow backend.\n",
      "/usr/local/lib/python3.7/site-packages/requests/__init__.py:91: RequestsDependencyWarning: urllib3 (1.25.2) or chardet (3.0.4) doesn't match a supported version!\n",
      "  RequestsDependencyWarning)\n"
     ]
    }
   ],
   "source": [
    "%load_ext autoreload\n",
    "%autoreload 2\n",
    "%matplotlib inline\n",
    "import models\n",
    "\n",
    "import pandas as pd\n",
    "import numpy as np\n",
    "import os\n",
    "from nltk import word_tokenize\n",
    "from sklearn.feature_extraction.text import CountVectorizer\n",
    "from sklearn.model_selection import train_test_split\n",
    "from sklearn.metrics import confusion_matrix, precision_score, accuracy_score, recall_score, f1_score\n",
    "from nltk.corpus import stopwords\n",
    "import re\n",
    "from keras.callbacks import ModelCheckpoint, TensorBoard\n",
    "from keras.optimizers import Adam\n",
    "from keras.layers import Input, Dense, Embedding, Flatten, Dropout\n",
    "from keras.layers.convolutional import Conv1D\n",
    "from keras.layers.pooling import MaxPooling1D\n",
    "from keras.models import Model\n",
    "from keras.utils import np_utils\n",
    "from time import time"
   ]
  },
  {
   "cell_type": "code",
   "execution_count": 4,
   "metadata": {},
   "outputs": [],
   "source": [
    "english_stopwords = set(stopwords.words('english'))\n",
    "categories = ['Democrat', 'Republican']\n",
    "tweetsdf = pd.read_csv('democratvsrepublicantweets/ExtractedTweets.csv')\n",
    "handlesdf = pd.read_csv('democratvsrepublicantweets/TwitterHandles.csv')\n",
    "raw_tweets = tweetsdf['Tweet']\n",
    "parties = tweetsdf['Party']"
   ]
  },
  {
   "cell_type": "code",
   "execution_count": 5,
   "metadata": {},
   "outputs": [],
   "source": [
    "def tokenize_tweet(s):\n",
    "    s = s.lower()\n",
    "    s = re.sub(r'https?://[^\\s]+', '', s)\n",
    "    s = re.sub(r'[^A-Za-z\\s$#@0-9]+', '', s)\n",
    "    s = re.sub(r'\\s+', ' ', s)\n",
    "    return [tok for tok in s.strip().split(' ') if tok not in english_stopwords]\n",
    "    \n",
    "tokenized_tweets = [tokenize_tweet(tweet) for tweet in raw_tweets]\n",
    "\n",
    "vocab = {}\n",
    "for toks in tokenized_tweets:\n",
    "    for tok in toks:\n",
    "        if tok in vocab:\n",
    "            vocab[tok] += 1\n",
    "        else:\n",
    "            vocab[tok] = 1\n",
    "            \n",
    "vocab = {k:v for k,v in vocab.items() if v > 10}\n",
    "\n",
    "vocabulary = list(vocab.keys())\n",
    "vocabulary_size = len(vocabulary) + 1\n",
    "\n",
    "word_to_int = {word: i + 1 for i, word in enumerate(vocabulary)}\n",
    "int_to_word = {i + 1: word for i, word in enumerate(vocabulary)}"
   ]
  },
  {
   "cell_type": "code",
   "execution_count": 6,
   "metadata": {},
   "outputs": [],
   "source": [
    "encoded_tweets =\\\n",
    "    [[word_to_int.get(tok, 0) for tok in toks if tok in word_to_int]\n",
    "     for toks in tokenized_tweets]\n",
    "\n",
    "max_tweet_len = max([len(encoded_tweet) for encoded_tweet in encoded_tweets])\n",
    "\n",
    "X = []\n",
    "for encoded_tweet in encoded_tweets:\n",
    "    v = np.zeros(max_tweet_len)\n",
    "    v[0:len(encoded_tweet)] = encoded_tweet\n",
    "    X.append(v)\n",
    "    \n",
    "X = np.array(X)\n",
    "\n",
    "y = 1.0 - np.asarray(parties == 'Democrat')\n",
    "X_train, X_test, y_train, y_test = train_test_split(X, y, test_size=0.2, random_state=42)"
   ]
  },
  {
   "cell_type": "code",
   "execution_count": 7,
   "metadata": {},
   "outputs": [
    {
     "name": "stdout",
     "output_type": "stream",
     "text": [
      "Max tweet length: 28\n"
     ]
    },
    {
     "data": {
      "text/plain": [
       "8736"
      ]
     },
     "execution_count": 7,
     "metadata": {},
     "output_type": "execute_result"
    }
   ],
   "source": [
    "print('Max tweet length: %s' % max_tweet_len)\n",
    "len(word_to_int)"
   ]
  },
  {
   "cell_type": "code",
   "execution_count": 8,
   "metadata": {},
   "outputs": [],
   "source": [
    "def model8(vocabulary_size, max_tweet_len):\n",
    "    input_layer = Input(shape=(max_tweet_len,))\n",
    "    x = Embedding(output_dim=100, input_dim=vocabulary_size, input_length=max_tweet_len)(input_layer)\n",
    "    x = Conv1D(128, kernel_size=4, activation='relu')(x)\n",
    "    x = Dropout(0.2)(x)\n",
    "    x = MaxPooling1D(pool_size=2)(x)\n",
    "    x = Conv1D(64, kernel_size=4, activation='relu')(x)\n",
    "    x = Dropout(0.2)(x)\n",
    "    x = MaxPooling1D(pool_size=2)(x)\n",
    "    x = Flatten()(x)\n",
    "    x = Dense(2, activation='softmax')(x)\n",
    "    model = Model(input_layer, x)\n",
    "    optimizer = Adam(lr=0.0003)\n",
    "    model.compile(loss='categorical_crossentropy', optimizer=optimizer)\n",
    "    return 'word-embedding2.hdf5', model"
   ]
  },
  {
   "cell_type": "code",
   "execution_count": 9,
   "metadata": {},
   "outputs": [
    {
     "name": "stdout",
     "output_type": "stream",
     "text": [
      "WARNING:tensorflow:From /usr/local/lib/python3.7/site-packages/tensorflow/python/framework/op_def_library.py:263: colocate_with (from tensorflow.python.framework.ops) is deprecated and will be removed in a future version.\n",
      "Instructions for updating:\n",
      "Colocations handled automatically by placer.\n",
      "WARNING:tensorflow:From /usr/local/lib/python3.7/site-packages/keras/backend/tensorflow_backend.py:3445: calling dropout (from tensorflow.python.ops.nn_ops) with keep_prob is deprecated and will be removed in a future version.\n",
      "Instructions for updating:\n",
      "Please use `rate` instead of `keep_prob`. Rate should be set to `rate = 1 - keep_prob`.\n",
      "_________________________________________________________________\n",
      "Layer (type)                 Output Shape              Param #   \n",
      "=================================================================\n",
      "input_1 (InputLayer)         (None, 28)                0         \n",
      "_________________________________________________________________\n",
      "embedding_1 (Embedding)      (None, 28, 100)           873700    \n",
      "_________________________________________________________________\n",
      "conv1d_1 (Conv1D)            (None, 25, 128)           51328     \n",
      "_________________________________________________________________\n",
      "dropout_1 (Dropout)          (None, 25, 128)           0         \n",
      "_________________________________________________________________\n",
      "max_pooling1d_1 (MaxPooling1 (None, 12, 128)           0         \n",
      "_________________________________________________________________\n",
      "conv1d_2 (Conv1D)            (None, 9, 64)             32832     \n",
      "_________________________________________________________________\n",
      "dropout_2 (Dropout)          (None, 9, 64)             0         \n",
      "_________________________________________________________________\n",
      "max_pooling1d_2 (MaxPooling1 (None, 4, 64)             0         \n",
      "_________________________________________________________________\n",
      "flatten_1 (Flatten)          (None, 256)               0         \n",
      "_________________________________________________________________\n",
      "dense_1 (Dense)              (None, 2)                 514       \n",
      "=================================================================\n",
      "Total params: 958,374\n",
      "Trainable params: 958,374\n",
      "Non-trainable params: 0\n",
      "_________________________________________________________________\n"
     ]
    }
   ],
   "source": [
    "filepath, model = model8(vocabulary_size, max_tweet_len)\n",
    "if filepath in os.listdir():\n",
    "    model.load_weights(filepath)\n",
    "model.summary()"
   ]
  },
  {
   "cell_type": "code",
   "execution_count": 10,
   "metadata": {},
   "outputs": [],
   "source": [
    "# models.train(X_train, y_train, model, filepath)"
   ]
  },
  {
   "cell_type": "code",
   "execution_count": 11,
   "metadata": {},
   "outputs": [],
   "source": [
    "predictions = np.argmax(model.predict(X_test), axis=1)"
   ]
  },
  {
   "cell_type": "code",
   "execution_count": 12,
   "metadata": {},
   "outputs": [
    {
     "data": {
      "image/png": "[encoded data removed]",
      "text/plain": [
       "<Figure size 432x288 with 1 Axes>"
      ]
     },
     "metadata": {
      "needs_background": "light"
     },
     "output_type": "display_data"
    },
    {
     "data": {
      "image/png": "[encoded data removed]",
      "text/plain": [
       "<Figure size 504x504 with 2 Axes>"
      ]
     },
     "metadata": {
      "needs_background": "light"
     },
     "output_type": "display_data"
    },
    {
     "data": {
      "image/png": "[encoded data removed]",
      "text/plain": [
       "<Figure size 504x504 with 2 Axes>"
      ]
     },
     "metadata": {
      "needs_background": "light"
     },
     "output_type": "display_data"
    },
    {
     "name": "stdout",
     "output_type": "stream",
     "text": [
      "Accuracy: 0.758443210733287\n",
      "Precision: 0.7583809844152932\n",
      "Recall: 0.7698611427270657\n",
      "F1: 0.7640779440835921\n"
     ]
    }
   ],
   "source": [
    "metrics, confusion_matrix = models.plot_results(y_test, predictions)\n",
    "(accuracy, precision, recall, f1) = metrics\n",
    "print('Accuracy: %s' % accuracy)\n",
    "print('Precision: %s' % precision)\n",
    "print('Recall: %s' % recall)\n",
    "print('F1: %s' % f1)"
   ]
  },
  {
   "cell_type": "code",
   "execution_count": 13,
   "metadata": {},
   "outputs": [
    {
     "data": {
      "text/plain": [
       "[0.758443210733287, 0.7583809844152932, 0.7698611427270657, 0.7640779440835921]"
      ]
     },
     "execution_count": 13,
     "metadata": {},
     "output_type": "execute_result"
    }
   ],
   "source": [
    "metrics"
   ]
  },
  {
   "cell_type": "code",
   "execution_count": 14,
   "metadata": {},
   "outputs": [],
   "source": [
    "right = []\n",
    "wrong = []\n",
    "for i, (actual, pred) in enumerate(zip(y_test, predictions)):\n",
    "    encoded = X_test[i]\n",
    "    decoded = ' '.join([int_to_word[int(v)] for v in encoded if v > 0])\n",
    "    if actual == pred:\n",
    "        right.append(decoded)\n",
    "    else:\n",
    "        wrong.append(decoded)"
   ]
  },
  {
   "cell_type": "code",
   "execution_count": 15,
   "metadata": {},
   "outputs": [
    {
     "data": {
      "text/plain": [
       "0.3588257720167747"
      ]
     },
     "execution_count": 15,
     "metadata": {},
     "output_type": "execute_result"
    }
   ],
   "source": [
    "len([s for s in right if '@' in s])/len(right)"
   ]
  },
  {
   "cell_type": "code",
   "execution_count": 16,
   "metadata": {},
   "outputs": [
    {
     "data": {
      "text/plain": [
       "0.17093607852525736"
      ]
     },
     "execution_count": 16,
     "metadata": {},
     "output_type": "execute_result"
    }
   ],
   "source": [
    "len([s for s in wrong if '@' in s])/len(wrong)"
   ]
  },
  {
   "cell_type": "code",
   "execution_count": 18,
   "metadata": {},
   "outputs": [
    {
     "data": {
      "text/plain": [
       "8736"
      ]
     },
     "execution_count": 18,
     "metadata": {},
     "output_type": "execute_result"
    }
   ],
   "source": [
    "len(vocabulary)"
   ]
  },
  {
   "cell_type": "code",
   "execution_count": null,
   "metadata": {},
   "outputs": [],
   "source": []
  }
 ],
 "metadata": {
  "kernelspec": {
   "display_name": "Python 3",
   "language": "python",
   "name": "python3"
  },
  "language_info": {
   "codemirror_mode": {
    "name": "ipython",
    "version": 3
   },
   "file_extension": ".py",
   "mimetype": "text/x-python",
   "name": "python",
   "nbconvert_exporter": "python",
   "pygments_lexer": "ipython3",
   "version": "3.7.3"
  }
 },
 "nbformat": 4,
 "nbformat_minor": 2
}
