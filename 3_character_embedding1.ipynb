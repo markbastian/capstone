{
 "cells": [
  {
   "cell_type": "markdown",
   "metadata": {},
   "source": [
    "Links:\n",
    "* [How to Use Word Embedding Layers for Deep Learning with Keras](https://machinelearningmastery.com/use-word-embedding-layers-deep-learning-keras/)\n",
    "* [What Are Word Embeddings for Text?](https://machinelearningmastery.com/what-are-word-embeddings/)\n",
    "* [How to Develop a Word Embedding Model for Predicting Movie Review Sentiment\n",
    "](https://machinelearningmastery.com/develop-word-embedding-model-predicting-movie-review-sentiment/)\n",
    "* [Embed, encode, attend, predict: The new deep learning formula for state-of-the-art NLP models](https://explosion.ai/blog/deep-learning-formula-nlp)\n",
    "* [How to Develop Word Embeddings in Python with Gensim](https://machinelearningmastery.com/develop-word-embeddings-python-gensim/)"
   ]
  },
  {
   "cell_type": "code",
   "execution_count": 1,
   "metadata": {},
   "outputs": [
    {
     "name": "stderr",
     "output_type": "stream",
     "text": [
      "Using TensorFlow backend.\n"
     ]
    }
   ],
   "source": [
    "import pandas as pd\n",
    "import numpy as np\n",
    "import matplotlib.pyplot as plt\n",
    "from collections import Counter\n",
    "from keras.callbacks import ModelCheckpoint, TensorBoard\n",
    "from keras.layers import Input, Dense, Embedding, Flatten, Dropout\n",
    "from keras.models import Model, Sequential\n",
    "from keras.layers.convolutional import Conv1D\n",
    "from keras.layers.pooling import MaxPooling1D\n",
    "from keras.optimizers import Adam\n",
    "from keras.utils import np_utils\n",
    "from sklearn.model_selection import train_test_split\n",
    "from sklearn.metrics import confusion_matrix, precision_score, accuracy_score, recall_score, f1_score\n",
    "import seaborn as sn\n",
    "from time import time\n",
    "%matplotlib inline"
   ]
  },
  {
   "cell_type": "code",
   "execution_count": 2,
   "metadata": {},
   "outputs": [],
   "source": [
    "def create_encoder_decoder(all_text):\n",
    "    chars = sorted(set(all_text))\n",
    "    char_to_int = dict((c, i + 1) for i, c in enumerate(chars))\n",
    "    int_to_char = dict((i + 1, c) for i, c in enumerate(chars))\n",
    "    return char_to_int, int_to_char\n",
    "\n",
    "def encode_string(line, char_to_int, l):\n",
    "    z = np.zeros(l)\n",
    "    z[0:len(line)] = [char_to_int[c] for c in line]\n",
    "    return z\n",
    "\n",
    "def encode_strings(lines, char_to_int, l):\n",
    "    return np.array([encode_string(line, char_to_int, l) for line in lines])"
   ]
  },
  {
   "cell_type": "code",
   "execution_count": 3,
   "metadata": {},
   "outputs": [],
   "source": [
    "# Dataset\n",
    "categories = ['Democrat', 'Republican']\n",
    "tweetsdf = pd.read_csv('democratvsrepublicantweets/ExtractedTweets.csv')\n",
    "handlesdf = pd.read_csv('democratvsrepublicantweets/TwitterHandles.csv')\n",
    "raw_tweets = tweetsdf['Tweet']\n",
    "normalized_tweets = raw_tweets.str.upper()\n",
    "char_to_int, int_to_char = create_encoder_decoder(normalized_tweets.str.cat())\n",
    "parties = tweetsdf['Party']\n",
    "y = 1.0 - np.asarray(parties == 'Democrat')\n",
    "max_tweet_len = normalized_tweets.str.len().max()\n",
    "X = encode_strings(normalized_tweets, char_to_int, max_tweet_len)\n",
    "X_train, X_test, y_train, y_test = train_test_split(X, y, test_size=0.2, random_state=42)"
   ]
  },
  {
   "cell_type": "code",
   "execution_count": 4,
   "metadata": {
    "scrolled": true
   },
   "outputs": [],
   "source": [
    "#Round 3 - Use character embedding\n",
    "#https://keras.io/getting-started/functional-api-guide/\n",
    "def model3():\n",
    "    input = Input(shape=(max_tweet_len,))\n",
    "    x = Embedding(output_dim=256, input_dim=len(char_to_int), input_length=max_tweet_len)(input)\n",
    "    x = Conv1D(256, kernel_size=4, activation='relu')(x)\n",
    "    x = Dropout(0.2)(x)\n",
    "    x = MaxPooling1D(pool_size=2)(x)\n",
    "    x = Flatten()(x)\n",
    "    x = Dense(2, activation='softmax')(x)\n",
    "    model = Model(input, x)\n",
    "    optimizer = Adam(lr=0.0003)\n",
    "    model.compile(loss='binary_crossentropy', optimizer=optimizer)\n",
    "    return 'model3-weights.hdf5', model\n",
    "\n",
    "def model4():\n",
    "    input = Input(shape=(max_tweet_len,))\n",
    "    x = Embedding(output_dim=256, input_dim=len(char_to_int), input_length=max_tweet_len)(input)\n",
    "    x = Conv1D(256, kernel_size=4, activation='relu')(x)\n",
    "    x = Dropout(0.2)(x)\n",
    "    x = MaxPooling1D(pool_size=2)(x)\n",
    "    x = Conv1D(128, kernel_size=4, activation='relu')(x)\n",
    "    x = Dropout(0.2)(x)\n",
    "    x = MaxPooling1D(pool_size=2)(x)\n",
    "    x = Flatten()(x)\n",
    "    x = Dense(2, activation='softmax')(x)\n",
    "    model = Model(input, x)\n",
    "    optimizer = Adam(lr=0.0003)\n",
    "    model.compile(loss='binary_crossentropy', optimizer=optimizer)\n",
    "    return 'model4-weights.hdf5', model"
   ]
  },
  {
   "cell_type": "code",
   "execution_count": 5,
   "metadata": {},
   "outputs": [
    {
     "name": "stderr",
     "output_type": "stream",
     "text": [
      "WARNING: Logging before flag parsing goes to stderr.\n",
      "W0506 22:57:53.350419 4679550400 deprecation.py:506] From /anaconda3/lib/python3.7/site-packages/keras/backend/tensorflow_backend.py:3445: calling dropout (from tensorflow.python.ops.nn_ops) with keep_prob is deprecated and will be removed in a future version.\n",
      "Instructions for updating:\n",
      "Please use `rate` instead of `keep_prob`. Rate should be set to `rate = 1 - keep_prob`.\n"
     ]
    },
    {
     "name": "stdout",
     "output_type": "stream",
     "text": [
      "_________________________________________________________________\n",
      "Layer (type)                 Output Shape              Param #   \n",
      "=================================================================\n",
      "input_1 (InputLayer)         (None, 166)               0         \n",
      "_________________________________________________________________\n",
      "embedding_1 (Embedding)      (None, 166, 256)          134400    \n",
      "_________________________________________________________________\n",
      "conv1d_1 (Conv1D)            (None, 163, 256)          262400    \n",
      "_________________________________________________________________\n",
      "dropout_1 (Dropout)          (None, 163, 256)          0         \n",
      "_________________________________________________________________\n",
      "max_pooling1d_1 (MaxPooling1 (None, 81, 256)           0         \n",
      "_________________________________________________________________\n",
      "flatten_1 (Flatten)          (None, 20736)             0         \n",
      "_________________________________________________________________\n",
      "dense_1 (Dense)              (None, 2)                 41474     \n",
      "=================================================================\n",
      "Total params: 438,274\n",
      "Trainable params: 438,274\n",
      "Non-trainable params: 0\n",
      "_________________________________________________________________\n"
     ]
    }
   ],
   "source": [
    "filepath, model = model3()\n",
    "model.load_weights(filepath)\n",
    "model.summary()"
   ]
  },
  {
   "cell_type": "code",
   "execution_count": 6,
   "metadata": {},
   "outputs": [],
   "source": [
    "# checkpoint = ModelCheckpoint(filepath, monitor='loss', verbose=1, save_best_only=True, mode='min')\n",
    "# tensorboard = TensorBoard(log_dir=\"logs/{}\".format(time()))\n",
    "# callbacks_list = [checkpoint, tensorboard]\n",
    "# model.fit(X_train, \n",
    "#           np_utils.to_categorical(y_train), \n",
    "#           epochs=100, \n",
    "#           batch_size=1000, \n",
    "#           callbacks=callbacks_list)"
   ]
  },
  {
   "cell_type": "code",
   "execution_count": 7,
   "metadata": {},
   "outputs": [],
   "source": [
    "predictions = np.argmax(model.predict(X_test), axis=1)"
   ]
  },
  {
   "cell_type": "code",
   "execution_count": 8,
   "metadata": {},
   "outputs": [
    {
     "data": {
      "image/png": "[encoded data removed]",
      "text/plain": [
       "<Figure size 432x288 with 1 Axes>"
      ]
     },
     "metadata": {
      "needs_background": "light"
     },
     "output_type": "display_data"
    },
    {
     "data": {
      "image/png": "[encoded data removed]",
      "text/plain": [
       "<Figure size 432x288 with 2 Axes>"
      ]
     },
     "metadata": {
      "needs_background": "light"
     },
     "output_type": "display_data"
    },
    {
     "data": {
      "image/png": "[encoded data removed]",
      "text/plain": [
       "<Figure size 432x288 with 2 Axes>"
      ]
     },
     "metadata": {
      "needs_background": "light"
     },
     "output_type": "display_data"
    }
   ],
   "source": [
    "objects = ('Accuracy', 'Precision', 'Recall', 'F1')\n",
    "y_pos = np.arange(len(objects))\n",
    "performance = [accuracy_score(y_test, predictions), \n",
    "               precision_score(y_test, predictions), \n",
    "               recall_score(y_test, predictions), \n",
    "               f1_score(y_test, predictions)]\n",
    "\n",
    "plt.bar(y_pos, performance, align='center', alpha=0.5)\n",
    "plt.xticks(y_pos, objects)\n",
    "plt.ylabel('Score')\n",
    "plt.title('Baseline Performance Metrics')\n",
    "\n",
    "plt.show()\n",
    "\n",
    "sn.heatmap(confusion_matrix(y_test, predictions), annot=True)\n",
    "\n",
    "plt.show()\n",
    "\n",
    "cm = confusion_matrix(y_test, predictions)\n",
    "sn.heatmap(cm / cm.sum(), annot=True)\n",
    "\n",
    "plt.show()"
   ]
  },
  {
   "cell_type": "code",
   "execution_count": null,
   "metadata": {},
   "outputs": [],
   "source": []
  }
 ],
 "metadata": {
  "kernelspec": {
   "display_name": "Python 3",
   "language": "python",
   "name": "python3"
  },
  "language_info": {
   "codemirror_mode": {
    "name": "ipython",
    "version": 3
   },
   "file_extension": ".py",
   "mimetype": "text/x-python",
   "name": "python",
   "nbconvert_exporter": "python",
   "pygments_lexer": "ipython3",
   "version": "3.7.0"
  }
 },
 "nbformat": 4,
 "nbformat_minor": 2
}
