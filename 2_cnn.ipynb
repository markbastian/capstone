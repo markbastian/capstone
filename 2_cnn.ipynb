{
 "cells": [
  {
   "cell_type": "markdown",
   "metadata": {},
   "source": [
    "Links:\n",
    "* [How to Use Word Embedding Layers for Deep Learning with Keras](https://machinelearningmastery.com/use-word-embedding-layers-deep-learning-keras/)\n",
    "* [What Are Word Embeddings for Text?](https://machinelearningmastery.com/what-are-word-embeddings/)\n",
    "* [How to Develop a Word Embedding Model for Predicting Movie Review Sentiment\n",
    "](https://machinelearningmastery.com/develop-word-embedding-model-predicting-movie-review-sentiment/)\n",
    "* [Embed, encode, attend, predict: The new deep learning formula for state-of-the-art NLP models](https://explosion.ai/blog/deep-learning-formula-nlp)\n",
    "* [How to Develop Word Embeddings in Python with Gensim](https://machinelearningmastery.com/develop-word-embeddings-python-gensim/)"
   ]
  },
  {
   "cell_type": "code",
   "execution_count": 1,
   "metadata": {},
   "outputs": [
    {
     "name": "stderr",
     "output_type": "stream",
     "text": [
      "Using TensorFlow backend.\n"
     ]
    }
   ],
   "source": [
    "import pandas as pd\n",
    "import numpy as np\n",
    "import matplotlib.pyplot as plt\n",
    "from collections import Counter\n",
    "from keras.callbacks import ModelCheckpoint, TensorBoard\n",
    "from keras.layers import Input, Dense, Embedding, Flatten, Dropout\n",
    "from keras.models import Model, Sequential\n",
    "from keras.layers.convolutional import Conv1D\n",
    "from keras.layers.pooling import MaxPooling1D\n",
    "from keras.optimizers import Adam\n",
    "from keras.utils import np_utils\n",
    "from sklearn.model_selection import train_test_split\n",
    "from sklearn.metrics import confusion_matrix, precision_score, accuracy_score, recall_score, f1_score\n",
    "import seaborn as sn\n",
    "from time import time\n",
    "%matplotlib inline"
   ]
  },
  {
   "cell_type": "code",
   "execution_count": 2,
   "metadata": {},
   "outputs": [],
   "source": [
    "def create_encoder_decoder(all_text):\n",
    "    chars = sorted(set(all_text))\n",
    "    char_to_int = dict((c, i + 1) for i, c in enumerate(chars))\n",
    "    int_to_char = dict((i + 1, c) for i, c in enumerate(chars))\n",
    "    return char_to_int, int_to_char\n",
    "\n",
    "def encode_string(line, char_to_int, l):\n",
    "    z = np.zeros(l)\n",
    "    z[0:len(line)] = [char_to_int[c] for c in line]\n",
    "    return z\n",
    "\n",
    "def encode_strings(lines, char_to_int, l):\n",
    "    return np.array([encode_string(line, char_to_int, l) for line in lines])"
   ]
  },
  {
   "cell_type": "code",
   "execution_count": 3,
   "metadata": {},
   "outputs": [],
   "source": [
    "# Dataset\n",
    "categories = ['Democrat', 'Republican']\n",
    "tweetsdf = pd.read_csv('democratvsrepublicantweets/ExtractedTweets.csv')\n",
    "handlesdf = pd.read_csv('democratvsrepublicantweets/TwitterHandles.csv')\n",
    "raw_tweets = tweetsdf['Tweet']\n",
    "normalized_tweets = raw_tweets.str.upper()\n",
    "char_to_int, int_to_char = create_encoder_decoder(normalized_tweets.str.cat())\n",
    "parties = tweetsdf['Party']\n",
    "y = 1.0 - np.asarray(parties == 'Democrat')\n",
    "max_tweet_len = normalized_tweets.str.len().max()\n",
    "X = encode_strings(normalized_tweets, char_to_int, max_tweet_len)\n",
    "X_train, X_test, y_train, y_test = train_test_split(X, y, test_size=0.2, random_state=42)"
   ]
  },
  {
   "cell_type": "code",
   "execution_count": 4,
   "metadata": {
    "scrolled": true
   },
   "outputs": [],
   "source": [
    "def model1():\n",
    "    input = Input(shape=(max_tweet_len,1))\n",
    "    x = Conv1D(256, kernel_size=4, activation='relu')(input)\n",
    "    x = MaxPooling1D(pool_size=2)(x)\n",
    "    x = Conv1D(64, kernel_size=4, activation='relu')(x)\n",
    "    x = MaxPooling1D(pool_size=2)(x)\n",
    "    x = Conv1D(32, kernel_size=4, activation='relu')(x)\n",
    "    x = MaxPooling1D(pool_size=2)(x)\n",
    "    x = Flatten()(x)\n",
    "    x = Dense(2, activation='softmax')(x)\n",
    "    model = Model(input, x)\n",
    "    optimizer = Adam(lr=0.0003)\n",
    "    model.compile(loss='binary_crossentropy', optimizer=optimizer)\n",
    "    return 'cnn-weights-0.0337.hdf5', model"
   ]
  },
  {
   "cell_type": "code",
   "execution_count": 7,
   "metadata": {},
   "outputs": [
    {
     "name": "stdout",
     "output_type": "stream",
     "text": [
      "_________________________________________________________________\n",
      "Layer (type)                 Output Shape              Param #   \n",
      "=================================================================\n",
      "input_2 (InputLayer)         (None, 166, 1)            0         \n",
      "_________________________________________________________________\n",
      "conv1d_4 (Conv1D)            (None, 163, 256)          1280      \n",
      "_________________________________________________________________\n",
      "max_pooling1d_4 (MaxPooling1 (None, 81, 256)           0         \n",
      "_________________________________________________________________\n",
      "conv1d_5 (Conv1D)            (None, 78, 64)            65600     \n",
      "_________________________________________________________________\n",
      "max_pooling1d_5 (MaxPooling1 (None, 39, 64)            0         \n",
      "_________________________________________________________________\n",
      "conv1d_6 (Conv1D)            (None, 36, 32)            8224      \n",
      "_________________________________________________________________\n",
      "max_pooling1d_6 (MaxPooling1 (None, 18, 32)            0         \n",
      "_________________________________________________________________\n",
      "flatten_2 (Flatten)          (None, 576)               0         \n",
      "_________________________________________________________________\n",
      "dense_2 (Dense)              (None, 2)                 1154      \n",
      "=================================================================\n",
      "Total params: 76,258\n",
      "Trainable params: 76,258\n",
      "Non-trainable params: 0\n",
      "_________________________________________________________________\n"
     ]
    }
   ],
   "source": [
    "model.load_weights('baseline-weights-0.0900-sm.hdf5')\n",
    "model.summary()"
   ]
  },
  {
   "cell_type": "code",
   "execution_count": 8,
   "metadata": {},
   "outputs": [],
   "source": [
    "# checkpoint = ModelCheckpoint(filepath, monitor='loss', verbose=1, save_best_only=True, mode='min')\n",
    "# tensorboard = TensorBoard(log_dir=\"logs/{}\".format(time()))\n",
    "# callbacks_list = [checkpoint, tensorboard]\n",
    "# model.fit(X_train, \n",
    "#           np_utils.to_categorical(y_train), \n",
    "#           epochs=100, \n",
    "#           batch_size=1000, \n",
    "#           callbacks=callbacks_list)"
   ]
  },
  {
   "cell_type": "code",
   "execution_count": 15,
   "metadata": {},
   "outputs": [],
   "source": [
    "predictions = np.argmax(model.predict(np.reshape(X_test, (17292, 166, 1))), axis=1)"
   ]
  },
  {
   "cell_type": "code",
   "execution_count": 26,
   "metadata": {},
   "outputs": [
    {
     "data": {
      "image/png": "[encoded data removed]",
      "text/plain": [
       "<Figure size 432x288 with 1 Axes>"
      ]
     },
     "metadata": {
      "needs_background": "light"
     },
     "output_type": "display_data"
    },
    {
     "data": {
      "image/png": "[encoded data removed]",
      "text/plain": [
       "<Figure size 432x288 with 2 Axes>"
      ]
     },
     "metadata": {
      "needs_background": "light"
     },
     "output_type": "display_data"
    },
    {
     "data": {
      "image/png": "[encoded data removed]",
      "text/plain": [
       "<Figure size 432x288 with 2 Axes>"
      ]
     },
     "metadata": {
      "needs_background": "light"
     },
     "output_type": "display_data"
    }
   ],
   "source": [
    "objects = ('Accuracy', 'Precision', 'Recall', 'F1')\n",
    "y_pos = np.arange(len(objects))\n",
    "performance = [accuracy_score(y_test, predictions), \n",
    "               precision_score(y_test, predictions), \n",
    "               recall_score(y_test, predictions), \n",
    "               f1_score(y_test, predictions)]\n",
    "\n",
    "plt.bar(y_pos, performance, align='center', alpha=0.5)\n",
    "plt.xticks(y_pos, objects)\n",
    "plt.ylabel('Score')\n",
    "plt.title('Baseline Performance Metrics')\n",
    "\n",
    "plt.show()\n",
    "\n",
    "sn.heatmap(confusion_matrix(y_test, predictions), annot=True)\n",
    "\n",
    "plt.show()\n",
    "\n",
    "cm = confusion_matrix(y_test, predictions)\n",
    "sn.heatmap(cm / cm.sum(), annot=True)\n",
    "\n",
    "plt.show()"
   ]
  }
 ],
 "metadata": {
  "kernelspec": {
   "display_name": "Python 3",
   "language": "python",
   "name": "python3"
  },
  "language_info": {
   "codemirror_mode": {
    "name": "ipython",
    "version": 3
   },
   "file_extension": ".py",
   "mimetype": "text/x-python",
   "name": "python",
   "nbconvert_exporter": "python",
   "pygments_lexer": "ipython3",
   "version": "3.7.0"
  }
 },
 "nbformat": 4,
 "nbformat_minor": 2
}
