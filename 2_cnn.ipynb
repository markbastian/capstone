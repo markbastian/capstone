{
 "cells": [
  {
   "cell_type": "markdown",
   "metadata": {},
   "source": [
    "Links:\n",
    "* [How to Use Word Embedding Layers for Deep Learning with Keras](https://machinelearningmastery.com/use-word-embedding-layers-deep-learning-keras/)\n",
    "* [What Are Word Embeddings for Text?](https://machinelearningmastery.com/what-are-word-embeddings/)\n",
    "* [How to Develop a Word Embedding Model for Predicting Movie Review Sentiment\n",
    "](https://machinelearningmastery.com/develop-word-embedding-model-predicting-movie-review-sentiment/)\n",
    "* [Embed, encode, attend, predict: The new deep learning formula for state-of-the-art NLP models](https://explosion.ai/blog/deep-learning-formula-nlp)\n",
    "* [How to Develop Word Embeddings in Python with Gensim](https://machinelearningmastery.com/develop-word-embeddings-python-gensim/)"
   ]
  },
  {
   "cell_type": "code",
   "execution_count": 29,
   "metadata": {},
   "outputs": [
    {
     "name": "stdout",
     "output_type": "stream",
     "text": [
      "The autoreload extension is already loaded. To reload it, use:\n",
      "  %reload_ext autoreload\n"
     ]
    }
   ],
   "source": [
    "%load_ext autoreload\n",
    "%autoreload 2\n",
    "\n",
    "import pandas as pd\n",
    "import numpy as np\n",
    "import matplotlib.pyplot as plt\n",
    "from collections import Counter\n",
    "from keras.callbacks import ModelCheckpoint, TensorBoard\n",
    "from keras.layers import Input, Dense, Embedding, Flatten, Dropout\n",
    "from keras.models import Model, Sequential\n",
    "from keras.layers.convolutional import Conv1D\n",
    "from keras.layers.pooling import MaxPooling1D\n",
    "from keras.optimizers import Adam\n",
    "from keras.utils import np_utils\n",
    "from sklearn.model_selection import train_test_split\n",
    "from sklearn.metrics import confusion_matrix, precision_score, accuracy_score, recall_score, f1_score\n",
    "import seaborn as sn\n",
    "from time import time\n",
    "import models\n",
    "%matplotlib inline"
   ]
  },
  {
   "cell_type": "code",
   "execution_count": 30,
   "metadata": {},
   "outputs": [],
   "source": [
    "def create_encoder_decoder(all_text):\n",
    "    chars = sorted(set(all_text))\n",
    "    char_to_int = dict((c, i + 1) for i, c in enumerate(chars))\n",
    "    int_to_char = dict((i + 1, c) for i, c in enumerate(chars))\n",
    "    return char_to_int, int_to_char\n",
    "\n",
    "def encode_string(line, char_to_int, l):\n",
    "    z = np.zeros(l)\n",
    "    z[0:len(line)] = [char_to_int[c] for c in line]\n",
    "    return z\n",
    "\n",
    "def encode_strings(lines, char_to_int, l):\n",
    "    return np.array([encode_string(line, char_to_int, l) for line in lines])"
   ]
  },
  {
   "cell_type": "code",
   "execution_count": 31,
   "metadata": {},
   "outputs": [],
   "source": [
    "# Dataset\n",
    "categories = ['Democrat', 'Republican']\n",
    "tweetsdf = pd.read_csv('democratvsrepublicantweets/ExtractedTweets.csv')\n",
    "handlesdf = pd.read_csv('democratvsrepublicantweets/TwitterHandles.csv')\n",
    "raw_tweets = tweetsdf['Tweet']\n",
    "normalized_tweets = raw_tweets.str.upper()\n",
    "char_to_int, int_to_char = create_encoder_decoder(normalized_tweets.str.cat())\n",
    "parties = tweetsdf['Party']\n",
    "y = 1.0 - np.asarray(parties == 'Democrat')\n",
    "max_tweet_len = normalized_tweets.str.len().max()\n",
    "X = encode_strings(normalized_tweets, char_to_int, max_tweet_len)\n",
    "X_train, X_test, y_train, y_test = train_test_split(X, y, test_size=0.2, random_state=42)"
   ]
  },
  {
   "cell_type": "code",
   "execution_count": 32,
   "metadata": {
    "scrolled": true
   },
   "outputs": [],
   "source": [
    "def model1():\n",
    "    input = Input(shape=(max_tweet_len,1))\n",
    "    x = Conv1D(256, kernel_size=4, activation='relu')(input)\n",
    "    x = MaxPooling1D(pool_size=2)(x)\n",
    "    x = Conv1D(64, kernel_size=4, activation='relu')(x)\n",
    "    x = MaxPooling1D(pool_size=2)(x)\n",
    "    x = Conv1D(32, kernel_size=4, activation='relu')(x)\n",
    "    x = MaxPooling1D(pool_size=2)(x)\n",
    "    x = Flatten()(x)\n",
    "    x = Dense(2, activation='softmax')(x)\n",
    "    model = Model(input, x)\n",
    "    optimizer = Adam(lr=0.0003)\n",
    "    model.compile(loss='binary_crossentropy', optimizer=optimizer)\n",
    "    return 'cnn-weights-0.0337.hdf5', model"
   ]
  },
  {
   "cell_type": "code",
   "execution_count": 33,
   "metadata": {},
   "outputs": [
    {
     "name": "stdout",
     "output_type": "stream",
     "text": [
      "_________________________________________________________________\n",
      "Layer (type)                 Output Shape              Param #   \n",
      "=================================================================\n",
      "input_5 (InputLayer)         (None, 166, 1)            0         \n",
      "_________________________________________________________________\n",
      "conv1d_13 (Conv1D)           (None, 163, 256)          1280      \n",
      "_________________________________________________________________\n",
      "max_pooling1d_13 (MaxPooling (None, 81, 256)           0         \n",
      "_________________________________________________________________\n",
      "conv1d_14 (Conv1D)           (None, 78, 64)            65600     \n",
      "_________________________________________________________________\n",
      "max_pooling1d_14 (MaxPooling (None, 39, 64)            0         \n",
      "_________________________________________________________________\n",
      "conv1d_15 (Conv1D)           (None, 36, 32)            8224      \n",
      "_________________________________________________________________\n",
      "max_pooling1d_15 (MaxPooling (None, 18, 32)            0         \n",
      "_________________________________________________________________\n",
      "flatten_5 (Flatten)          (None, 576)               0         \n",
      "_________________________________________________________________\n",
      "dense_5 (Dense)              (None, 2)                 1154      \n",
      "=================================================================\n",
      "Total params: 76,258\n",
      "Trainable params: 76,258\n",
      "Non-trainable params: 0\n",
      "_________________________________________________________________\n"
     ]
    }
   ],
   "source": [
    "filename, model = model1()\n",
    "#model.load_weights('baseline-weights-0.0900-sm.hdf5')\n",
    "model.load_weights(filename)\n",
    "model.summary()"
   ]
  },
  {
   "cell_type": "code",
   "execution_count": 34,
   "metadata": {},
   "outputs": [],
   "source": [
    "# checkpoint = ModelCheckpoint(filepath, monitor='loss', verbose=1, save_best_only=True, mode='min')\n",
    "# tensorboard = TensorBoard(log_dir=\"logs/{}\".format(time()))\n",
    "# callbacks_list = [checkpoint, tensorboard]\n",
    "# model.fit(X_train, \n",
    "#           np_utils.to_categorical(y_train), \n",
    "#           epochs=100, \n",
    "#           batch_size=1000, \n",
    "#           callbacks=callbacks_list)"
   ]
  },
  {
   "cell_type": "code",
   "execution_count": 35,
   "metadata": {},
   "outputs": [],
   "source": [
    "predictions = np.argmax(model.predict(np.reshape(X_test, (17292, 166, 1))), axis=1)"
   ]
  },
  {
   "cell_type": "code",
   "execution_count": 36,
   "metadata": {},
   "outputs": [
    {
     "data": {
      "image/png": "[encoded data removed]",
      "text/plain": [
       "<Figure size 432x288 with 1 Axes>"
      ]
     },
     "metadata": {
      "needs_background": "light"
     },
     "output_type": "display_data"
    },
    {
     "data": {
      "image/png": "[encoded data removed]",
      "text/plain": [
       "<Figure size 504x504 with 2 Axes>"
      ]
     },
     "metadata": {
      "needs_background": "light"
     },
     "output_type": "display_data"
    },
    {
     "data": {
      "image/png": "[encoded data removed]",
      "text/plain": [
       "<Figure size 504x504 with 2 Axes>"
      ]
     },
     "metadata": {
      "needs_background": "light"
     },
     "output_type": "display_data"
    },
    {
     "name": "stdout",
     "output_type": "stream",
     "text": [
      "Accuracy: 0.5570205875549387\n",
      "Precision: 0.5472473984558577\n",
      "Recall: 0.7422035055770544\n",
      "F1: 0.6299874408269732\n"
     ]
    }
   ],
   "source": [
    "metrics, confusion_matrix = models.plot_results(y_test, predictions)\n",
    "(accuracy, precision, recall, f1) = metrics\n",
    "print('Accuracy: %s' % accuracy)\n",
    "print('Precision: %s' % precision)\n",
    "print('Recall: %s' % recall)\n",
    "print('F1: %s' % f1)"
   ]
  },
  {
   "cell_type": "code",
   "execution_count": 37,
   "metadata": {},
   "outputs": [
    {
     "data": {
      "text/plain": [
       "[0.5570205875549387,\n",
       " 0.5472473984558577,\n",
       " 0.7422035055770544,\n",
       " 0.6299874408269732]"
      ]
     },
     "execution_count": 37,
     "metadata": {},
     "output_type": "execute_result"
    }
   ],
   "source": [
    "metrics"
   ]
  },
  {
   "cell_type": "code",
   "execution_count": null,
   "metadata": {},
   "outputs": [],
   "source": []
  }
 ],
 "metadata": {
  "kernelspec": {
   "display_name": "Python 3",
   "language": "python",
   "name": "python3"
  },
  "language_info": {
   "codemirror_mode": {
    "name": "ipython",
    "version": 3
   },
   "file_extension": ".py",
   "mimetype": "text/x-python",
   "name": "python",
   "nbconvert_exporter": "python",
   "pygments_lexer": "ipython3",
   "version": "3.7.3"
  }
 },
 "nbformat": 4,
 "nbformat_minor": 2
}
