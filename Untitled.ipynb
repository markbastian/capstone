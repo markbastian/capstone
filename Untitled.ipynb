{
 "cells": [
  {
   "cell_type": "code",
   "execution_count": 6,
   "metadata": {},
   "outputs": [],
   "source": [
    "import pandas as pd\n",
    "import numpy as np\n",
    "from sklearn.model_selection import train_test_split"
   ]
  },
  {
   "cell_type": "code",
   "execution_count": 7,
   "metadata": {},
   "outputs": [],
   "source": [
    "def create_encoder_decoder(all_text):\n",
    "    chars = sorted(set(all_text))\n",
    "    char_to_int = dict((c, i + 1) for i, c in enumerate(chars))\n",
    "    int_to_char = dict((i + 1, c) for i, c in enumerate(chars))\n",
    "    return char_to_int, int_to_char\n",
    "\n",
    "def encode_string(line, char_to_int, l):\n",
    "    z = np.zeros(l)\n",
    "    z[0:len(line)] = [char_to_int[c] for c in line]\n",
    "    return z\n",
    "\n",
    "def encode_strings(lines, char_to_int, l):\n",
    "    return np.array([encode_string(line, char_to_int, l) for line in lines])"
   ]
  },
  {
   "cell_type": "code",
   "execution_count": 8,
   "metadata": {},
   "outputs": [],
   "source": [
    "# Dataset\n",
    "categories = ['Democrat', 'Republican']\n",
    "tweetsdf = pd.read_csv('democratvsrepublicantweets/ExtractedTweets.csv')\n",
    "handlesdf = pd.read_csv('democratvsrepublicantweets/TwitterHandles.csv')\n",
    "raw_tweets = tweetsdf['Tweet']\n",
    "normalized_tweets = raw_tweets.str.upper()\n",
    "char_to_int, int_to_char = create_encoder_decoder(normalized_tweets.str.cat())\n",
    "parties = tweetsdf['Party']\n",
    "y = 1.0 - np.asarray(parties == 'Democrat')\n",
    "max_tweet_len = normalized_tweets.str.len().max()\n",
    "X = encode_strings(normalized_tweets, char_to_int, max_tweet_len)\n",
    "X_train, X_test, y_train, y_test = train_test_split(X, y, test_size=0.2, random_state=42)"
   ]
  },
  {
   "cell_type": "code",
   "execution_count": null,
   "metadata": {},
   "outputs": [],
   "source": []
  }
 ],
 "metadata": {
  "kernelspec": {
   "display_name": "Python 3",
   "language": "python",
   "name": "python3"
  },
  "language_info": {
   "codemirror_mode": {
    "name": "ipython",
    "version": 3
   },
   "file_extension": ".py",
   "mimetype": "text/x-python",
   "name": "python",
   "nbconvert_exporter": "python",
   "pygments_lexer": "ipython3",
   "version": "3.7.3"
  }
 },
 "nbformat": 4,
 "nbformat_minor": 2
}
